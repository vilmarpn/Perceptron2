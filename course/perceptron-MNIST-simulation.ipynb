{
 "cells": [
  {
   "cell_type": "markdown",
   "metadata": {},
   "source": [
    "# The perceptron -  Recognising the MNIST digits"
   ]
  },
  {
   "cell_type": "markdown",
   "metadata": {},
   "source": [
    "<div>Table of contents</div>\n",
    "<div id=\"toc\"></div>"
   ]
  },
  {
   "cell_type": "code",
   "execution_count": 1,
   "metadata": {
    "collapsed": true
   },
   "outputs": [],
   "source": [
    "%matplotlib inline\n",
    "from pylab import *\n",
    "from utils import *"
   ]
  },
  {
   "cell_type": "markdown",
   "metadata": {},
   "source": [
    "Let us implement a perceptron that categorize the MNIST images as numbers. As you will see below the behaviour of the network is far from optimal. As we see the network [learns well the training set](#Plotting-the-results-of-test). Nevertheless  its behaviour in a [test with new digits](#Spreading-of-the-network-during-test) is far from optimal. **The task we are asking the network to learn is too difficult!!**\n",
    "### Training\n",
    "#### Initializing data and parameters\n",
    "First we initialize the dataset (see [The MNIST dataset](http://francesco-mannella.github.io/neunet-basics/mnist.html)), the we define few parameters and initialize the main variables:"
   ]
  },
  {
   "cell_type": "code",
   "execution_count": 2,
   "metadata": {
    "collapsed": false
   },
   "outputs": [],
   "source": [
    "#-----------------------------------------------------------\n",
    "# training\n",
    "\n",
    "# Set the number of patterns \n",
    "n_patterns = 500\n",
    "\n",
    "# Take 'n_patterns' rows\n",
    "indices = arange(training_length)\n",
    "shuffle(indices)\n",
    "indices = indices[:n_patterns]\n",
    "\n",
    "# Get patterns\n",
    "patterns = array(mndata.train_images)[indices]\n",
    "\n",
    "# Rescale all patterns between 0 and 1\n",
    "patterns = sign(patterns/255.0)\n",
    "\n",
    "# Get the labels of the patterns\n",
    "labels = array(mndata.train_labels)[indices]\n",
    "\n",
    "# Constants\n",
    "\n",
    "# Number of repetitions of \n",
    "# the pattern series\n",
    "epochs = 30\n",
    "\n",
    "# Number of trials for learning\n",
    "stime = epochs*n_patterns\n",
    "\n",
    "# Create a list of pattern indices.\n",
    "# We will reshuffle it at each \n",
    "# repetition of the series\n",
    "pattern_indices = arange(n_patterns)\n",
    "\n",
    "# Learning rate\n",
    "eta = 0.0001\n",
    "\n",
    "# Number of output unit \n",
    "# (remember that the input is given\n",
    "# by a 28*28 vector)\n",
    "m = 10\n",
    "\n",
    "# Variables \n",
    "\n",
    "# Init weights\n",
    "w = zeros([m, n+1])\n",
    "\n",
    "# Init input units\n",
    "x = zeros(n)\n",
    "\n",
    "# init net input\n",
    "net = zeros(m)\n",
    "\n",
    "# Init output units\n",
    "y = zeros(m)\n",
    "\n",
    "# Init desired output vector\n",
    "y_target = zeros(m)\n",
    "\n",
    "# We will store the input, output and error history\n",
    "input_store = zeros([n,stime])\n",
    "output_store = zeros([m,stime])\n",
    "label_store = zeros([m,stime])\n",
    "squared_errors = zeros(epochs)"
   ]
  },
  {
   "cell_type": "markdown",
   "metadata": {},
   "source": [
    "Let us visualize the first 20 patterns of the trining set:"
   ]
  },
  {
   "cell_type": "code",
   "execution_count": 3,
   "metadata": {
    "collapsed": false
   },
   "outputs": [
    {
     "data": {
      "image/png": "[encoded data removed]",
      "text/plain": [
       "<matplotlib.figure.Figure at 0x7f41668eb9d0>"
      ]
     },
     "metadata": {},
     "output_type": "display_data"
    },
    {
     "data": {
      "image/png": "[encoded data removed]",
      "text/plain": [
       "<matplotlib.figure.Figure at 0x7f415e8ee150>"
      ]
     },
     "metadata": {},
     "output_type": "display_data"
    }
   ],
   "source": [
    "for i in xrange(20):\n",
    "    # Create a new figure after each 10-th item\n",
    "    if i%10 == 0:\n",
    "        fig = figure(figsize = (20, 1))\n",
    "    \n",
    "    # Plot current item (we use the \n",
    "    # function plot_img in our utils.py)\n",
    "    plot_img( to_mat(patterns[i]), \n",
    "        fig, (i%10)+1, windows = 20 )\n",
    "    \n",
    "    # show figure after all 1o items\n",
    "    # are plotted\n",
    "    if i%10 == 9:\n",
    "        show()"
   ]
  },
  {
   "cell_type": "markdown",
   "metadata": {},
   "source": [
    "#### Spreading of the network during training\n",
    "Here starts the core part, iterating the timesteps. We also divide the training phase in epochs. Each epoch is a single presentation of the whole input pattern series. The sum of squared errors will be grouped by epochs."
   ]
  },
  {
   "cell_type": "code",
   "execution_count": 4,
   "metadata": {
    "collapsed": false
   },
   "outputs": [],
   "source": [
    "# counter of repetitions \n",
    "# of the series of patterns\n",
    "epoch = -1\n",
    "\n",
    "\n",
    "# Iterate trials\n",
    "for t in xrange(stime) :\n",
    "    \n",
    "    # Reiterate the input pattern \n",
    "    # sequence through timesteps\n",
    "    \n",
    "    # Reshuffle at the end \n",
    "    # of the series\n",
    "    if t%n_patterns == 0:\n",
    "        shuffle(pattern_indices)\n",
    "        epoch += 1\n",
    "    \n",
    "    # Current pattern \n",
    "    k = pattern_indices[t%n_patterns]\n",
    "    \n",
    "    # Aggregate inputs and the bias unit\n",
    "    x = hstack([ 1, patterns[k] ])\n",
    "    \n",
    "    # Only the unit representing the desired \n",
    "    # category is set to 1\n",
    "    y_target *= 0\n",
    "    y_target[labels[k]] = 1\n",
    "    \n",
    "    # !!!! The dot product becomes a matrix \n",
    "    # product with more than one output unit !!!!\n",
    "    net = dot(w,x) \n",
    "    \n",
    "    # output function\n",
    "    y = step(net)\n",
    "    \n",
    "    # Learning - outer product\n",
    "    w += eta*outer(y_target - y, x);\n",
    "    \n",
    "    # Store data\n",
    "    input_store[:,t] = x[1:]\n",
    "    output_store[:,t] = y\n",
    "    label_store[:,t] = y_target\n",
    "    \n",
    "    squared_errors[epoch] += 0.5*sum((y_target - y)**2)"
   ]
  },
  {
   "cell_type": "markdown",
   "metadata": {},
   "source": [
    "#### Plotting the results of training\n",
    "We plot the history of the squared errors through epocs a"
   ]
  },
  {
   "cell_type": "code",
   "execution_count": 5,
   "metadata": {
    "collapsed": false,
    "scrolled": true
   },
   "outputs": [
    {
     "data": {
      "text/plain": [
       "<matplotlib.text.Text at 0x7f415e328190>"
      ]
     },
     "execution_count": 5,
     "metadata": {},
     "output_type": "execute_result"
    },
    {
     "data": {
      "image/png": "[encoded data removed]",
      "text/plain": [
       "<matplotlib.figure.Figure at 0x7f41668eb6d0>"
      ]
     },
     "metadata": {},
     "output_type": "display_data"
    }
   ],
   "source": [
    "fig = figure()\n",
    "ax = fig.add_subplot(111)\n",
    "ax.plot(squared_errors)\n",
    "xlabel(\"Epochs\")\n",
    "ylabel(\"Sum of squared errors\")"
   ]
  },
  {
   "cell_type": "markdown",
   "metadata": {},
   "source": [
    "and a visualization of the weights to each ouput unit. Each set of weights seems to reproduce (in a very raugh manner) a generalization of the target digit."
   ]
  },
  {
   "cell_type": "code",
   "execution_count": 6,
   "metadata": {
    "collapsed": false,
    "scrolled": true
   },
   "outputs": [
    {
     "data": {
      "image/png": "[encoded data removed]",
      "text/plain": [
       "<matplotlib.figure.Figure at 0x7f415e2c1590>"
      ]
     },
     "metadata": {},
     "output_type": "display_data"
    }
   ],
   "source": [
    "figure(figsize=(15,2))\n",
    "for i in xrange(m) : \n",
    "    subplot(1,m,i+1)\n",
    "    title(i)\n",
    "    im = to_mat(w[i,1:]) \n",
    "    imshow(im, cmap=cm.bone)\n",
    "    axis('off')\n",
    "\n",
    "show()"
   ]
  },
  {
   "cell_type": "markdown",
   "metadata": {},
   "source": [
    "### Testing\n",
    "#### Initializing data and parameters\n",
    "Now we create a new dataset to test the network and reset some variables: "
   ]
  },
  {
   "cell_type": "code",
   "execution_count": 7,
   "metadata": {
    "collapsed": false
   },
   "outputs": [],
   "source": [
    "#-----------------------------------------------------------\n",
    "# test\n",
    "\n",
    "# Set the number of patterns \n",
    "n_patterns = 1000\n",
    "\n",
    "# Take 'n_patterns' rows\n",
    "indices = arange(test_length)\n",
    "shuffle(indices)\n",
    "indices = indices[:n_patterns]\n",
    "\n",
    "# Get patterns\n",
    "patterns = array(mndata.test_images)[indices]\n",
    "\n",
    "# Rescale all patterns between 0 and 1\n",
    "patterns = sign(patterns/255.0)\n",
    "\n",
    "# Get the labels of the patterns\n",
    "labels = array(mndata.test_labels)[indices]\n",
    "\n",
    "# Constants\n",
    "\n",
    "# Create a list of pattern indices.\n",
    "# We will reshuffle it at each \n",
    "# repetition of the series\n",
    "pattern_indices = arange(n_patterns)\n",
    "shuffle(pattern_indices)\n",
    "\n",
    "# Clear variables \n",
    "\n",
    "x *= 0\n",
    "net *= 0\n",
    "y *= 0\n",
    "\n",
    "# We will store the input, output and error history\n",
    "input_store = zeros([patterns.shape[1], n_patterns])\n",
    "output_store = zeros([m, n_patterns])\n",
    "target_store = zeros(n_patterns)\n",
    "error_store = zeros(n_patterns)"
   ]
  },
  {
   "cell_type": "markdown",
   "metadata": {},
   "source": [
    "#### Spreading of the network during test\n",
    "The network react to each test pattern in each spreading timestep:"
   ]
  },
  {
   "cell_type": "code",
   "execution_count": 8,
   "metadata": {
    "collapsed": true
   },
   "outputs": [],
   "source": [
    "# Iterate trials\n",
    "for p in xrange(n_patterns) :\n",
    "        \n",
    "    # Aggregate inputs and the bias unit\n",
    "    x = hstack([ 1, patterns[p] ])\n",
    "    \n",
    "    # !!!! The dot product becomes a matrix \n",
    "    # product with more than one output unit !!!!\n",
    "    net = dot(w,x) \n",
    "    \n",
    "    # output function\n",
    "    y = step(net)\n",
    "  \n",
    "    y_index = squeeze(find(y==1))\n",
    "    y_index_target = int(labels[p])\n",
    "    \n",
    "    error = 0\n",
    "    if y_index.size < 2 :\n",
    "        if y_index == y_index_target :\n",
    "            error = 1    \n",
    "    # store\n",
    "    input_store[:,p] = x[1:]\n",
    "    output_store[:,p] = y\n",
    "    target_store[p] = labels[p]\n",
    "    error_store[p] = error"
   ]
  },
  {
   "cell_type": "markdown",
   "metadata": {},
   "source": [
    "Let us see what is the proportion of correct answers of the network:"
   ]
  },
  {
   "cell_type": "code",
   "execution_count": 9,
   "metadata": {
    "collapsed": false,
    "run_control": {
     "marked": false
    },
    "scrolled": false
   },
   "outputs": [
    {
     "name": "stdout",
     "output_type": "stream",
     "text": [
      "Proportion of correct answers:0.684\n"
     ]
    }
   ],
   "source": [
    "    \n",
    "print \"Proportion of correct answers:{}\" \\\n",
    "    .format(sum(error_store)/float(n_patterns))"
   ]
  },
  {
   "cell_type": "markdown",
   "metadata": {},
   "source": [
    "#### Plotting the results of test\n",
    "\n",
    "Now we plot few test samples to get the real idea. For each sample we plot the input digit on the top, the answer of the network on the center and the target digit on the left. Squared brakets indicate that the network gave zero or more than one answer.  "
   ]
  },
  {
   "cell_type": "code",
   "execution_count": 10,
   "metadata": {
    "collapsed": false,
    "scrolled": true
   },
   "outputs": [
    {
     "data": {
      "image/png": "[encoded data removed]",
      "text/plain": [
       "<matplotlib.figure.Figure at 0x7f415e7a61d0>"
      ]
     },
     "metadata": {},
     "output_type": "display_data"
    },
    {
     "data": {
      "image/png": "[encoded data removed]",
      "text/plain": [
       "<matplotlib.figure.Figure at 0x7f416627edd0>"
      ]
     },
     "metadata": {},
     "output_type": "display_data"
    }
   ],
   "source": [
    "import matplotlib.gridspec as gridspec\n",
    "gs = gridspec.GridSpec(8, 4*10)\n",
    "  \n",
    "n_patterns = 20\n",
    "\n",
    "for p in xrange(n_patterns) :  \n",
    "    \n",
    "    im = to_mat(input_store[:,p]) \n",
    "       \n",
    "    k = p%10    \n",
    "    \n",
    "    if k==0 :\n",
    "        fig = figure(figsize=(15,2))\n",
    "    \n",
    "    ax1 = fig.add_subplot(gs[:4,(k*4):(k*4+4)])\n",
    "    ax1.imshow(im, cmap=cm.binary)\n",
    "    ax1.set_axis_off()\n",
    "\n",
    "    \n",
    "    if error_store[p] == True :\n",
    "        color = \"blue\"\n",
    "    else :\n",
    "        color = \"red\"             \n",
    " \n",
    "    y = squeeze(find(output_store[:,p]==1))\n",
    "    y_target = int(labels[p])\n",
    "    \n",
    "    ax2 = fig.add_subplot(gs[4:6,(k*4):(k*4+4)])\n",
    "    ax2.text(0.5,0.5,\"{}\".format(y),\n",
    "             fontsize=\"16\", color=color)\n",
    "    axis(\"off\")\n",
    "    \n",
    "    \n",
    "    ax3 = fig.add_subplot(gs[6:,(k*4):(k*4+4)])\n",
    "    ax3.text(0.5,0.5,\"{}\".format(y_target),\n",
    "             fontsize = \"16\", color=color )\n",
    "    axis(\"off\")\n",
    "    \n",
    "    if k == 9:\n",
    "        show()"
   ]
  },
  {
   "cell_type": "markdown",
   "metadata": {},
   "source": [
    "<br><br><br><br><br><br><br><br><br><br><br><br><br><br>\n",
    "<br><br><br><br><br><br><br><br><br><br><br><br><br><br>\n",
    "<br><br><br><br><br><br><br><br><br><br><br><br><br><br>\n",
    "The next cell is just for styling"
   ]
  },
  {
   "cell_type": "code",
   "execution_count": 2,
   "metadata": {
    "collapsed": false,
    "run_control": {
     "marked": true
    }
   },
   "outputs": [
    {
     "data": {
      "text/html": [
       "<style>\n",
       "\n",
       "/* PRINT */\n",
       "\n",
       "#toc ol {\n",
       "    font-size: 20px; \n",
       "    line-height: 120%; \n",
       "    padding: 0; \n",
       "    margin-left: 20px; \n",
       "    list-style-type: decimal;\n",
       "}\n",
       "\n",
       "/* PRINT */\n",
       "div.text_cell_render table, \n",
       "div.text_cell_render  th,\n",
       "div.text_cell_render  tr,\n",
       "div.text_cell_render td {\n",
       "    border: 0px solid black;\n",
       "}\n",
       "div.MathJax_Display {padding: 40px 5px 40px 5px}\n",
       "\n",
       "div.input_area  { padding: 10px;  }\n",
       "\n",
       "div.input_area  { \n",
       "    min-width: 20em !important; \n",
       "    overflow-x: hide\n",
       "} \n",
       "div.input_area pre {  \n",
       "    min-width: 20em !important; \n",
       "}\n",
       "\n",
       "\n",
       "div.input_area  { padding: 10px; overflow: auto  }\n",
       ".rendered_html p{ text-align: left }\n",
       "div.input_area>div.highlight  { padding:10px; width: 500px !important}\n",
       "\n",
       "/* FONT_CODE */\n",
       ".input_area pre { font-size:10px; line-height:120% }\n",
       "\n",
       "/* FONT_TEXT */\n",
       "div.text_cell_render { font-size:20px;  line-height:120% }\n",
       "\n",
       "/* FONT_QUOTE */\n",
       ".text_cell_render pre { font-size:14px; line-height:120% }\n",
       "\n",
       "/* BACKGROUND */\n",
       "div .input_area { background-color:#333333;}\n",
       "blockquote { background-color:#ffff66; }\n",
       "\n",
       "/* BUILTIN */\n",
       ".input_area .highlight .bp { color: #CD5C5C } /* Name.Builtin.Pseudo */\n",
       "\n",
       "/* KEYWORD */\n",
       ".input_area .highlight .k { color: #F0E68C; font-weight: bold } /* Keyword */\n",
       ".input_area .highlight .kc { color: #F0E68C; font-weight: bold } /* Keyword.Constant */\n",
       ".input_area .highlight .kd { color: #F0E68C; font-weight: bold } /* Keyword.Declaration */\n",
       ".input_area .highlight .kn { color: #F0E68C; font-weight: bold } /* Keyword.Namespace */\n",
       ".input_area .highlight .kp { color: #F0E68C; font-weight: bold } /* Keyword.Pseudo */\n",
       ".input_area .highlight .kr { color: #F0E68C; font-weight: bold } /* Keyword.Reserved */\n",
       ".input_area .highlight .kt { color: #F0E68C; font-weight: bold } /* Keyword.Type */\n",
       ".input_area .highlight .ow { color: #F0E68C; font-weight: bold } /* Operator.Word */\n",
       "\n",
       "/* VARIABLE */\n",
       ".input_area .highlight pre { color: #FFFFFF }\n",
       ".input_area .highlight .n { color: #FFFFFF } /* Name.Variable */\n",
       ".input_area .highlight .nv { color: #FFFFFF } /* Name.Variable */\n",
       ".input_area .highlight .na { color: #FFFFFF } /* Name.Attribute */\n",
       ".input_area .highlight .no { color: #FFFFFF } /* Name.Constant */\n",
       ".input_area .highlight .nl { color: #FFFFFF } /* Name.Label */\n",
       "\n",
       "/* FUNCTION */\n",
       ".input_area .highlight .nb { color: #BDB76B } /* Name.Builtin */\n",
       ".input_area .highlight .nf { color: #BDB76B } /* Name.Function */\n",
       ".input_area .highlight .vc { color: #BDB76B } /* Name.Variable.Class */\n",
       ".input_area .highlight .vg { color: #BDB76B } /* Name.Variable.Global */\n",
       ".input_area .highlight .vi { color: #BDB76B } /* Name.Variable.Instance */\n",
       ".input_area .highlight .nc { color: #BDB76B } /* Name.Class */\n",
       ".input_area .highlight .ni { color: #BDB76B } /* Name.Entity */\n",
       ".input_area .highlight .ne { color: #BDB76B } /* Name.Exception */\n",
       ".input_area .highlight .nn { color: #BDB76B } /* Name.Namespace */\n",
       ".input_area .highlight .nt { color: #BDB76B } /* Name.Tag */\n",
       "\n",
       "\n",
       "\n",
       "/* OPERATOR */\n",
       ".input_area .highlight .o { color: #FFFFFF; font-weight:bold } /* Operator */\n",
       ".input_area .highlight .p { color: #FFFFFF; font-weight:bold } /* Operator */\n",
       "\n",
       "\n",
       "/* DECORATOR */\n",
       ".input_area .highlight .nd { color: #BDB76B } /* Name.Decorator */\n",
       "\n",
       "\n",
       "/* COMMENT */\n",
       ".input_area .highlight .c { color: #87CEEB; font-style: italic } /* Comment */\n",
       ".input_area .highlight .cm { color: #87CEEB; font-style: italic } /* Comment.Multiline */\n",
       ".input_area .highlight .cp { color: #87CEEB; } /* Comment.Preproc */\n",
       ".input_area .highlight .c1 { color: #87CEEB; font-style: italic } /* Comment.Single */\n",
       ".input_area .highlight .cs { color: #87CEEB; font-style: italic } /* Comment.Special */\n",
       "\n",
       "\n",
       "/* NUMBER */\n",
       ".input_area .highlight .mb { color: #98FB98 } /* Literal.Number.Bin */\n",
       ".input_area .highlight .mf { color: #98FB98 } /* Literal.Number.Float */\n",
       ".input_area .highlight .mh { color: #98FB98 } /* Literal.Number.Hex */\n",
       ".input_area .highlight .mi { color: #98FB98 } /* Literal.Number.Integer */\n",
       ".input_area .highlight .mo { color: #98FB98 } /* Literal.Number.Oct */\n",
       ".input_area .highlight .m { color: #98FB98 } /* Literal.Number */\n",
       ".input_area .highlight .il { color: #98FB98 } /* Literal.Number.Integer.Long */\n",
       "\n",
       "/* STRING */\n",
       ".input_area .highlight .s { color: #FFA0A0 } /* Literal.String */\n",
       ".input_area .highlight .w { color: #FFA0A0 } /* Text.Whitespace */\n",
       ".input_area .highlight .sb { color: #FFA0A0 } /* Literal.String.Backtick */\n",
       ".input_area .highlight .sc { color: #FFA0A0 } /* Literal.String.Char */\n",
       ".input_area .highlight .sd { color: #FFA0A0; font-style: italic } /* Literal.String.Doc */\n",
       ".input_area .highlight .s2 { color: #FFA0A0 } /* Literal.String.Double */\n",
       ".input_area .highlight .se { color: #FFA0A0; font-weight: bold } /* Literal.String.Escape */\n",
       ".input_area .highlight .sh { color: #FFA0A0 } /* Literal.String.Heredoc */\n",
       ".input_area .highlight .si { color: #FFA0A0; font-weight: bold } /* Literal.String.Interpol */\n",
       ".input_area .highlight .sx { color: #FFA0A0 } /* Literal.String.Other */\n",
       ".input_area .highlight .sr { color: #FFA0A0 } /* Literal.String.Regex */\n",
       ".input_area .highlight .s1 { color: #FFA0A0 } /* Literal.String.Single */\n",
       ".input_area .highlight .ss { color: #FFA0A0 } /* Literal.String.Symbol */\n",
       "\n",
       "\n",
       "\n",
       "/********************************************************************************/\n",
       "/********************************************************************************/\n",
       "\n",
       "/* JUPYTER */\n",
       "\n",
       "/* FONT_EDIT */\n",
       ".cm-s-default span { font-size:16px; line-height:120% }\n",
       "\n",
       "/* BACKGROUND_EDIT */\n",
       "div .cm-s-default { background-color: #888888;}\n",
       "\n",
       "/* CURSOR */\n",
       ".input_area .CodeMirror div.CodeMirror-cursor { border-left: 5px solid #FFFFFF; }\n",
       ".input_area .CodeMirror div.CodeMirror-secondarycursor { border-left: 5px solid #FFFFFF;}\n",
       ".input_area .CodeMirror.cm-fat-cursor div.CodeMirror-cursor { background: #FFFFFF;}\n",
       ".input_area .cm-animate-fat-cursor { background-color: #FFFFFF; }\n",
       "\n",
       "/* BUILTIN */\n",
       ".input_area .cm-s-ipython span.cm-builtin { color: #CD5C5C } \n",
       ".input_area .cm-s-ipython span.cm-variable-2 { color: #CD5C5C } \n",
       ".input_area .cm-s-ipython span.cm-variable-3 { color: #CD5C5C } \n",
       "\n",
       "/* KEYWORD */\n",
       ".input_area .cm-s-ipython span.cm-keyword { color: #F0E68C; font-weight:700 } \n",
       "\n",
       "/* VARIABLE */\n",
       ".input_area span.cm-variable { color: #FFFFFF } \n",
       ".input_area span.cm-def { color: #FFFFFF } \n",
       "\n",
       "\n",
       "/* OPERATOR */\n",
       ".input_area .cm-s-ipython span.cm-operator { color: #FFFFFF; font-weight:700 } \n",
       ".input_area .cm-s-ipython span { color: #FFFFFF; font-weight:700 } \n",
       "\n",
       "/* DECORATOR */\n",
       ".input_area .cm-s-ipython span.cm-meta { color: #BDB76B } \n",
       "\n",
       "/* COMMENT */\n",
       ".input_area .cm-s-ipython span.cm-comment { color:#87CEEB; font-style:italic } \n",
       "\n",
       "/* NUMBER */\n",
       ".input_area .cm-s-ipython span.cm-number { color: #98FB98 } \n",
       "\n",
       "/* STRING */\n",
       ".input_area .cm-s-ipython span.cm-string { color: #FFA0A0 } \n",
       ".input_area .cm-s-ipython span.cm-string-2 { color: #FFA0A0 } \n",
       "\n",
       "</style><script> \n",
       "// Converts integer to roman numeral\n",
       "function romanize(num) {\n",
       "    var lookup = {M:1000,CM:900,D:500,CD:400,C:100,XC:90,L:50,XL:40,X:10,IX:9,V:5,IV:4,I:1},\n",
       "    roman = '',\n",
       "    i;\n",
       "    for ( i in lookup ) {\n",
       "        while ( num >= lookup[i] ) {\n",
       "            roman += i;\n",
       "            num -= lookup[i];\n",
       "        }\n",
       "    }\n",
       "    return roman;\n",
       "}\n",
       "\n",
       "// Builds a <ul> Table of Contents from all <headers> in DOM\n",
       "function createTOC(){\n",
       "    var toc = \"\";\n",
       "    var level = 0;\n",
       "    var levels = {}\n",
       "    $('#toc').html('');\n",
       "\n",
       "    $(\":header\").each(function(i){\n",
       "        if (this.id=='tocheading'){return;}\n",
       "\n",
       "        titleText = this.innerHTML;\n",
       "        openLevel = this.tagName[1];\n",
       "        if(openLevel>1) {\n",
       "            openLevel-=1\n",
       "\n",
       "        if (levels[openLevel]){\n",
       "            levels[openLevel] += 1;\n",
       "        } else{\n",
       "            levels[openLevel] = 1;\n",
       "        }\n",
       "\n",
       "        if (openLevel > level) {\n",
       "            toc += (new Array(openLevel - level + 1)).join('<ol type=\"1\" class=\"toc\">');\n",
       "        } else if (openLevel < level) {\n",
       "            toc += (new Array(level - openLevel + 1)).join(\"</ol>\");\n",
       "            for (i=level;i>openLevel;i--){levels[i]=0;}\n",
       "        }\n",
       "\n",
       "        level = parseInt(openLevel);\n",
       "\n",
       "\n",
       "        if (this.id==''){this.id = this.innerHTML.replace(/ /g,\"-\")}\n",
       "        var anchor = this.id;\n",
       "\n",
       "        toc += '<li><a href=\"#' + anchor + '\">' + titleText\n",
       "        + '</a></li>';\n",
       "    }\n",
       "\n",
       "    });\n",
       "\n",
       "\n",
       "    if (level) {\n",
       "        toc += (new Array(level + 1)).join(\"</ol>\");\n",
       "    }\n",
       "\n",
       "\n",
       "    $('#toc').append(toc);\n",
       "\n",
       "};\n",
       "\n",
       "// Executes the createToc function\n",
       "setTimeout(function(){createTOC();},100);\n",
       "\n",
       "// Rebuild to TOC every minute\n",
       "setInterval(function(){createTOC();},60000);\n",
       "</script>\n",
       "\n"
      ],
      "text/plain": [
       "<IPython.core.display.HTML object>"
      ]
     },
     "execution_count": 2,
     "metadata": {},
     "output_type": "execute_result"
    }
   ],
   "source": [
    "from IPython.core.display import HTML\n",
    "def css_styling():\n",
    "    styles = open(\"../style/ipybn.css\", \"r\").read()\n",
    "    return HTML(styles)\n",
    "css_styling()"
   ]
  }
 ],
 "metadata": {
  "css": [
   ""
  ],
  "kernelspec": {
   "display_name": "Python 2",
   "language": "python",
   "name": "python2"
  },
  "language_info": {
   "codemirror_mode": {
    "name": "ipython",
    "version": 2
   },
   "file_extension": ".py",
   "mimetype": "text/x-python",
   "name": "python",
   "nbconvert_exporter": "python",
   "pygments_lexer": "ipython2",
   "version": "2.7.9"
  },
  "latex_envs": {
   "bibliofile": "biblio.bib",
   "cite_by": "apalike",
   "current_citInitial": 1,
   "eqLabelWithNumbers": true,
   "eqNumInitial": 0
  }
 },
 "nbformat": 4,
 "nbformat_minor": 0
}
